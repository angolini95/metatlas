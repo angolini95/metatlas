{
 "cells": [
  {
   "cell_type": "code",
   "execution_count": 1,
   "metadata": {
    "collapsed": false
   },
   "outputs": [
    {
     "name": "stdout",
     "output_type": "stream",
     "text": [
      "('Metatlas live in ', '/global/project/projectdirs/metatlas/anaconda/lib/python2.7/site-packages/metatlas')\n",
      "you're running on fb2ee5119e85 at 172.17.0.2 \n"
     ]
    },
    {
     "ename": "ImportError",
     "evalue": "No module named get_compounds_from_wikidata",
     "output_type": "error",
     "traceback": [
      "\u001b[1;31m\u001b[0m",
      "\u001b[1;31mImportError\u001b[0mTraceback (most recent call last)",
      "\u001b[1;32m<ipython-input-1-7094cde2edf5>\u001b[0m in \u001b[0;36m<module>\u001b[1;34m()\u001b[0m\n\u001b[0;32m      3\u001b[0m \u001b[1;32mfrom\u001b[0m \u001b[0mmetatlas\u001b[0m \u001b[1;32mimport\u001b[0m \u001b[0mmetatlas_objects\u001b[0m \u001b[1;32mas\u001b[0m \u001b[0mmetob\u001b[0m\u001b[1;33m\u001b[0m\u001b[0m\n\u001b[0;32m      4\u001b[0m \u001b[0msys\u001b[0m\u001b[1;33m.\u001b[0m\u001b[0mpath\u001b[0m\u001b[1;33m.\u001b[0m\u001b[0minsert\u001b[0m\u001b[1;33m(\u001b[0m\u001b[1;36m1\u001b[0m\u001b[1;33m,\u001b[0m\u001b[1;34m'/global/homes/b/bpb/metatlas/metatlas/compounds/not_used/'\u001b[0m\u001b[1;33m)\u001b[0m\u001b[1;33m\u001b[0m\u001b[0m\n\u001b[1;32m----> 5\u001b[1;33m \u001b[1;32mimport\u001b[0m \u001b[0mget_compounds_each_provider\u001b[0m \u001b[1;32mas\u001b[0m \u001b[0mimport_compounds\u001b[0m\u001b[1;33m\u001b[0m\u001b[0m\n\u001b[0m\u001b[0;32m      6\u001b[0m \u001b[1;32mimport\u001b[0m \u001b[0mpandas\u001b[0m \u001b[1;32mas\u001b[0m \u001b[0mpd\u001b[0m\u001b[1;33m\u001b[0m\u001b[0m\n\u001b[0;32m      7\u001b[0m \u001b[1;31m# import sys\u001b[0m\u001b[1;33m\u001b[0m\u001b[1;33m\u001b[0m\u001b[0m\n",
      "\u001b[1;32m/global/homes/b/bpb/metatlas/metatlas/compounds/not_used/get_compounds_each_provider.py\u001b[0m in \u001b[0;36m<module>\u001b[1;34m()\u001b[0m\n\u001b[0;32m      1\u001b[0m \u001b[1;32mimport\u001b[0m \u001b[0msys\u001b[0m\u001b[1;33m,\u001b[0m\u001b[0mos\u001b[0m\u001b[1;33m\u001b[0m\u001b[0m\n\u001b[0;32m      2\u001b[0m \u001b[1;32mimport\u001b[0m \u001b[0mpandas\u001b[0m \u001b[1;32mas\u001b[0m \u001b[0mpd\u001b[0m\u001b[1;33m\u001b[0m\u001b[0m\n\u001b[1;32m----> 3\u001b[1;33m \u001b[1;32mimport\u001b[0m \u001b[0mget_compounds_from_wikidata\u001b[0m \u001b[1;32mas\u001b[0m \u001b[0mwd\u001b[0m\u001b[1;33m\u001b[0m\u001b[0m\n\u001b[0m\u001b[0;32m      4\u001b[0m \u001b[0msys\u001b[0m\u001b[1;33m.\u001b[0m\u001b[0mpath\u001b[0m\u001b[1;33m.\u001b[0m\u001b[0mappend\u001b[0m\u001b[1;33m(\u001b[0m\u001b[1;34m'/global/project/projectdirs/openmsi/jupyterhub_libs/anaconda/lib/python2.7/site-packages'\u001b[0m\u001b[1;33m)\u001b[0m\u001b[1;33m\u001b[0m\u001b[0m\n\u001b[0;32m      5\u001b[0m \u001b[1;32mfrom\u001b[0m \u001b[0mrdkit\u001b[0m \u001b[1;32mimport\u001b[0m \u001b[0mChem\u001b[0m\u001b[1;33m\u001b[0m\u001b[0m\n",
      "\u001b[1;31mImportError\u001b[0m: No module named get_compounds_from_wikidata"
     ]
    }
   ],
   "source": [
    "import sys\n",
    "sys.path.insert(0,'/global/project/projectdirs/metatlas/anaconda/lib/python2.7/site-packages' )\n",
    "from metatlas import metatlas_objects as metob\n",
    "sys.path.insert(1,'/global/homes/b/bpb/metatlas/metatlas/compounds/not_used/')\n",
    "import get_compounds_each_provider as import_compounds\n",
    "import pandas as pd\n",
    "# import sys\n",
    "# sys.path.append('/global/project/projectdirs/openmsi/jupyterhub_libs/anaconda/lib/python2.7/site-packages')\n",
    "# from rdkit import Chem\n",
    "# from rdkit.Chem import Descriptors\n",
    "# from rdkit.Chem import rdMolDescriptors\n",
    "import numpy as np\n"
   ]
  },
  {
   "cell_type": "code",
   "execution_count": 2,
   "metadata": {
    "collapsed": false
   },
   "outputs": [],
   "source": [
    "df = pd.read_pickle('/project/projectdirs/openmsi/projects/ben_run_pactolus/unique_compounds.pkl')\n"
   ]
  },
  {
   "cell_type": "code",
   "execution_count": 3,
   "metadata": {
    "collapsed": false
   },
   "outputs": [
    {
     "data": {
      "text/html": [
       "<div>\n",
       "<table border=\"1\" class=\"dataframe\">\n",
       "  <thead>\n",
       "    <tr style=\"text-align: right;\">\n",
       "      <th></th>\n",
       "      <th>Definition</th>\n",
       "      <th>charge</th>\n",
       "      <th>chebi_id</th>\n",
       "      <th>common_name</th>\n",
       "      <th>flat_inchi</th>\n",
       "      <th>flat_inchikey</th>\n",
       "      <th>formula</th>\n",
       "      <th>hmdb_id</th>\n",
       "      <th>img_abc_id</th>\n",
       "      <th>kegg_id</th>\n",
       "      <th>lipidmaps_id</th>\n",
       "      <th>metacyc_id</th>\n",
       "      <th>metatlas_inchi</th>\n",
       "      <th>metatlas_inchi_key</th>\n",
       "      <th>num_radicals</th>\n",
       "      <th>pubchem_compound_id</th>\n",
       "      <th>source_database</th>\n",
       "      <th>synonyms</th>\n",
       "      <th>monoisotopic_mw</th>\n",
       "    </tr>\n",
       "  </thead>\n",
       "  <tbody>\n",
       "    <tr>\n",
       "      <th>158501</th>\n",
       "      <td></td>\n",
       "      <td>0.0</td>\n",
       "      <td></td>\n",
       "      <td>TG(20:3(8Z,11Z,14Z)/22:3(10Z,13Z,16Z)/22:3(10Z...</td>\n",
       "      <td>InChI=1S/C67H112O6/c1-4-7-10-13-16-19-22-25-28...</td>\n",
       "      <td>ZZZREISXLFTTMV-UHFFFAOYSA-N</td>\n",
       "      <td>C67H112O6</td>\n",
       "      <td></td>\n",
       "      <td></td>\n",
       "      <td></td>\n",
       "      <td>LMGL03012341</td>\n",
       "      <td></td>\n",
       "      <td>InChI=1S/C67H112O6/c1-4-7-10-13-16-19-22-25-28...</td>\n",
       "      <td>ZZZREISXLFTTMV-BHZSNYLYSA-N</td>\n",
       "      <td>0.0</td>\n",
       "      <td>9546300</td>\n",
       "      <td>lipidmaps</td>\n",
       "      <td>TG(20:3/22:3/22:3)[iso3]</td>\n",
       "      <td>1012.8458913</td>\n",
       "    </tr>\n",
       "    <tr>\n",
       "      <th>158502</th>\n",
       "      <td></td>\n",
       "      <td>0.0</td>\n",
       "      <td>CHEBI:94378</td>\n",
       "      <td>(4R,12aR)-4,7-bis(dimethylamino)-10,12a-dihydr...</td>\n",
       "      <td>InChI=1S/C23H27N3O7/c1-25(2)12-5-6-13(27)15-10...</td>\n",
       "      <td>ZZZRUAITSXLWBH-UHFFFAOYSA-N</td>\n",
       "      <td>C23H27N3O7</td>\n",
       "      <td></td>\n",
       "      <td></td>\n",
       "      <td></td>\n",
       "      <td></td>\n",
       "      <td></td>\n",
       "      <td>InChI=1S/C23H27N3O7/c1-25(2)12-5-6-13(27)15-10...</td>\n",
       "      <td>ZZZRUAITSXLWBH-PGBZFOFMSA-N</td>\n",
       "      <td>0.0</td>\n",
       "      <td></td>\n",
       "      <td>gnps///chebi</td>\n",
       "      <td></td>\n",
       "      <td>457.184900204</td>\n",
       "    </tr>\n",
       "    <tr>\n",
       "      <th>158503</th>\n",
       "      <td></td>\n",
       "      <td>0.0</td>\n",
       "      <td></td>\n",
       "      <td>CL(20:4(5Z,8Z,11Z,14Z)/22:5(7Z,10Z,13Z,16Z,19Z...</td>\n",
       "      <td>InChI=1S/C92H148O17P2/c1-5-9-13-17-21-25-29-33...</td>\n",
       "      <td>ZZZSZGCPSYVRBB-UHFFFAOYSA-N</td>\n",
       "      <td>C92H148O17P2</td>\n",
       "      <td>HMDB59147</td>\n",
       "      <td></td>\n",
       "      <td></td>\n",
       "      <td></td>\n",
       "      <td></td>\n",
       "      <td>InChI=1S/C92H148O17P2/c1-5-9-13-17-21-25-29-33...</td>\n",
       "      <td>ZZZSZGCPSYVRBB-HDTOTRFYSA-N</td>\n",
       "      <td>0.0</td>\n",
       "      <td></td>\n",
       "      <td>hmdb</td>\n",
       "      <td>1'-[1-Arachidonoyl-2-docosapentaenoyl-sn-glyce...</td>\n",
       "      <td>1587.01917654</td>\n",
       "    </tr>\n",
       "    <tr>\n",
       "      <th>158504</th>\n",
       "      <td>A methanopterin derivative in which the methan...</td>\n",
       "      <td>0.0</td>\n",
       "      <td>CHEBI:64514///CHEBI:64493</td>\n",
       "      <td>sarcinapterin///sarcinapterin(4-)</td>\n",
       "      <td>InChI=1S/C35H48N7O19P/c1-14(25-15(2)38-30-26(4...</td>\n",
       "      <td>ZZZXRXDSTUEPEK-UHFFFAOYSA-N</td>\n",
       "      <td>C35H48N7O19P</td>\n",
       "      <td></td>\n",
       "      <td></td>\n",
       "      <td></td>\n",
       "      <td></td>\n",
       "      <td>CPD-10764</td>\n",
       "      <td>InChI=1S/C35H48N7O19P/c1-14(25-15(2)38-30-26(4...</td>\n",
       "      <td>ZZZXRXDSTUEPEK-VBKPQRTLSA-N</td>\n",
       "      <td>0.0</td>\n",
       "      <td>57339206</td>\n",
       "      <td>chebi///metacyc</td>\n",
       "      <td>sarcinapterin///&amp;alpha;-glutamyl-methanopterin</td>\n",
       "      <td>901.274258946</td>\n",
       "    </tr>\n",
       "    <tr>\n",
       "      <th>158505</th>\n",
       "      <td></td>\n",
       "      <td>0.0</td>\n",
       "      <td>CHEBI:3197</td>\n",
       "      <td>Brusatol</td>\n",
       "      <td>InChI=1S/C26H32O11/c1-10(2)6-15(28)37-18-20-25...</td>\n",
       "      <td>ZZZYHIMVKOHVIH-UHFFFAOYSA-N</td>\n",
       "      <td>C26H32O11</td>\n",
       "      <td></td>\n",
       "      <td></td>\n",
       "      <td>C08754</td>\n",
       "      <td></td>\n",
       "      <td></td>\n",
       "      <td>InChI=1S/C26H32O11/c1-10(2)6-15(28)37-18-20-25...</td>\n",
       "      <td>ZZZYHIMVKOHVIH-VILODJCFSA-N</td>\n",
       "      <td>0.0</td>\n",
       "      <td></td>\n",
       "      <td>chebi</td>\n",
       "      <td>Brusatol</td>\n",
       "      <td>520.194461844</td>\n",
       "    </tr>\n",
       "  </tbody>\n",
       "</table>\n",
       "</div>"
      ],
      "text/plain": [
       "                                               Definition charge  \\\n",
       "158501                                                       0.0   \n",
       "158502                                                       0.0   \n",
       "158503                                                       0.0   \n",
       "158504  A methanopterin derivative in which the methan...    0.0   \n",
       "158505                                                       0.0   \n",
       "\n",
       "                         chebi_id  \\\n",
       "158501                              \n",
       "158502                CHEBI:94378   \n",
       "158503                              \n",
       "158504  CHEBI:64514///CHEBI:64493   \n",
       "158505                 CHEBI:3197   \n",
       "\n",
       "                                              common_name  \\\n",
       "158501  TG(20:3(8Z,11Z,14Z)/22:3(10Z,13Z,16Z)/22:3(10Z...   \n",
       "158502  (4R,12aR)-4,7-bis(dimethylamino)-10,12a-dihydr...   \n",
       "158503  CL(20:4(5Z,8Z,11Z,14Z)/22:5(7Z,10Z,13Z,16Z,19Z...   \n",
       "158504                  sarcinapterin///sarcinapterin(4-)   \n",
       "158505                                           Brusatol   \n",
       "\n",
       "                                               flat_inchi  \\\n",
       "158501  InChI=1S/C67H112O6/c1-4-7-10-13-16-19-22-25-28...   \n",
       "158502  InChI=1S/C23H27N3O7/c1-25(2)12-5-6-13(27)15-10...   \n",
       "158503  InChI=1S/C92H148O17P2/c1-5-9-13-17-21-25-29-33...   \n",
       "158504  InChI=1S/C35H48N7O19P/c1-14(25-15(2)38-30-26(4...   \n",
       "158505  InChI=1S/C26H32O11/c1-10(2)6-15(28)37-18-20-25...   \n",
       "\n",
       "                      flat_inchikey       formula    hmdb_id img_abc_id  \\\n",
       "158501  ZZZREISXLFTTMV-UHFFFAOYSA-N     C67H112O6                         \n",
       "158502  ZZZRUAITSXLWBH-UHFFFAOYSA-N    C23H27N3O7                         \n",
       "158503  ZZZSZGCPSYVRBB-UHFFFAOYSA-N  C92H148O17P2  HMDB59147              \n",
       "158504  ZZZXRXDSTUEPEK-UHFFFAOYSA-N  C35H48N7O19P                         \n",
       "158505  ZZZYHIMVKOHVIH-UHFFFAOYSA-N     C26H32O11                         \n",
       "\n",
       "       kegg_id  lipidmaps_id metacyc_id  \\\n",
       "158501          LMGL03012341              \n",
       "158502                                    \n",
       "158503                                    \n",
       "158504                        CPD-10764   \n",
       "158505  C08754                            \n",
       "\n",
       "                                           metatlas_inchi  \\\n",
       "158501  InChI=1S/C67H112O6/c1-4-7-10-13-16-19-22-25-28...   \n",
       "158502  InChI=1S/C23H27N3O7/c1-25(2)12-5-6-13(27)15-10...   \n",
       "158503  InChI=1S/C92H148O17P2/c1-5-9-13-17-21-25-29-33...   \n",
       "158504  InChI=1S/C35H48N7O19P/c1-14(25-15(2)38-30-26(4...   \n",
       "158505  InChI=1S/C26H32O11/c1-10(2)6-15(28)37-18-20-25...   \n",
       "\n",
       "                 metatlas_inchi_key num_radicals pubchem_compound_id  \\\n",
       "158501  ZZZREISXLFTTMV-BHZSNYLYSA-N          0.0             9546300   \n",
       "158502  ZZZRUAITSXLWBH-PGBZFOFMSA-N          0.0                       \n",
       "158503  ZZZSZGCPSYVRBB-HDTOTRFYSA-N          0.0                       \n",
       "158504  ZZZXRXDSTUEPEK-VBKPQRTLSA-N          0.0            57339206   \n",
       "158505  ZZZYHIMVKOHVIH-VILODJCFSA-N          0.0                       \n",
       "\n",
       "        source_database                                           synonyms  \\\n",
       "158501        lipidmaps                           TG(20:3/22:3/22:3)[iso3]   \n",
       "158502     gnps///chebi                                                      \n",
       "158503             hmdb  1'-[1-Arachidonoyl-2-docosapentaenoyl-sn-glyce...   \n",
       "158504  chebi///metacyc     sarcinapterin///&alpha;-glutamyl-methanopterin   \n",
       "158505            chebi                                           Brusatol   \n",
       "\n",
       "       monoisotopic_mw  \n",
       "158501    1012.8458913  \n",
       "158502   457.184900204  \n",
       "158503   1587.01917654  \n",
       "158504   901.274258946  \n",
       "158505   520.194461844  "
      ]
     },
     "execution_count": 3,
     "metadata": {},
     "output_type": "execute_result"
    }
   ],
   "source": [
    "df.tail()"
   ]
  },
  {
   "cell_type": "code",
   "execution_count": 4,
   "metadata": {
    "collapsed": false
   },
   "outputs": [
    {
     "data": {
      "text/plain": [
       "(158493, 19)"
      ]
     },
     "execution_count": 4,
     "metadata": {},
     "output_type": "execute_result"
    }
   ],
   "source": [
    "df.shape"
   ]
  },
  {
   "cell_type": "code",
   "execution_count": 5,
   "metadata": {
    "collapsed": true
   },
   "outputs": [],
   "source": [
    "database_list = ['chebi_id',\n",
    "                 'hmdb_id',\n",
    "                 'img_abc_id',\n",
    "                 'kegg_id',\n",
    "                 'lipidmaps_id',\n",
    "                 'metacyc_id',\n",
    "                 'pubchem_compound_id']\n",
    "url_list = [\n",
    "    'http://www.ebi.ac.uk/chebi/searchId.do?chebiId=',\n",
    "    'http://www.hmdb.ca/metabolites/',\n",
    "    '',\n",
    "    'http://www.genome.jp/dbget-bin/www_bget?',\n",
    "    'http://www.lipidmaps.org/data/LMSDRecord.php?LMID=',\n",
    "    '',\n",
    "    'http://pubchem.ncbi.nlm.nih.gov/compound/'\n",
    "]"
   ]
  },
  {
   "cell_type": "code",
   "execution_count": 4,
   "metadata": {
    "collapsed": false
   },
   "outputs": [
    {
     "data": {
      "text/plain": [
       "8192"
      ]
     },
     "execution_count": 4,
     "metadata": {},
     "output_type": "execute_result"
    }
   ],
   "source": [
    "2**13"
   ]
  },
  {
   "cell_type": "code",
   "execution_count": 6,
   "metadata": {
    "collapsed": false,
    "scrolled": false
   },
   "outputs": [
    {
     "name": "stdout",
     "output_type": "stream",
     "text": [
      "999\n",
      "1999\n",
      "2999\n",
      "3999\n",
      "4999\n",
      "5999\n",
      "6999\n",
      "7999\n",
      "9000\n",
      "10000\n",
      "11000\n",
      "12000\n",
      "13000\n",
      "14000\n",
      "15000\n",
      "16000\n",
      "17000\n",
      "18000\n",
      "19000\n",
      "20000\n",
      "21000\n",
      "22000\n",
      "23000\n",
      "24000\n",
      "25001\n",
      "26001\n",
      "27001\n",
      "28001\n",
      "29001\n",
      "30001\n",
      "31001\n",
      "32001\n",
      "33001\n",
      "34002\n",
      "35002\n",
      "36002\n",
      "37002\n",
      "38002\n",
      "39002\n",
      "40003\n",
      "41003\n",
      "42003\n",
      "43004\n",
      "44004\n",
      "45004\n",
      "46004\n",
      "47004\n",
      "48004\n",
      "49005\n",
      "50005\n",
      "51005\n",
      "52005\n",
      "53005\n",
      "54005\n",
      "55005\n",
      "56005\n",
      "57005\n",
      "58005\n",
      "59005\n",
      "60005\n",
      "61005\n",
      "62005\n",
      "63005\n",
      "64005\n",
      "65005\n",
      "66005\n",
      "67005\n",
      "68005\n",
      "69005\n",
      "70005\n",
      "71005\n",
      "72005\n",
      "73005\n",
      "74005\n",
      "75005\n",
      "76005\n",
      "77005\n",
      "78005\n",
      "79005\n",
      "80005\n",
      "81005\n",
      "82005\n",
      "83005\n",
      "84005\n",
      "85005\n",
      "86005\n",
      "87005\n",
      "88005\n",
      "89005\n",
      "90006\n",
      "91006\n",
      "92006\n",
      "93007\n",
      "94007\n",
      "95007\n",
      "96008\n",
      "97008\n",
      "98008\n",
      "99008\n",
      "100008\n",
      "101008\n",
      "102008\n",
      "103008\n",
      "104008\n",
      "105008\n",
      "106008\n",
      "107008\n",
      "108008\n",
      "109008\n",
      "110008\n",
      "111008\n",
      "112008\n",
      "113009\n",
      "114009\n",
      "115009\n",
      "116009\n",
      "117009\n",
      "118009\n",
      "119009\n",
      "120010\n",
      "121010\n",
      "122010\n",
      "123010\n",
      "124010\n",
      "125010\n",
      "126010\n",
      "127010\n",
      "128010\n",
      "129010\n",
      "130010\n",
      "131010\n",
      "132010\n",
      "133010\n",
      "134010\n",
      "135010\n",
      "136010\n",
      "137010\n",
      "138010\n",
      "139011\n",
      "140011\n",
      "141011\n",
      "142011\n",
      "143011\n",
      "144012\n",
      "145012\n",
      "146012\n",
      "147012\n",
      "148012\n",
      "149012\n",
      "150012\n",
      "151012\n",
      "152012\n",
      "153012\n",
      "154012\n",
      "155012\n",
      "156012\n",
      "157012\n",
      "158012\n",
      "1861.52897382\n"
     ]
    }
   ],
   "source": [
    "def strip_non_ascii(string):\n",
    "    ''' Returns the string without non ASCII characters'''\n",
    "    stripped = (c for c in string if 0 < ord(c) < 127)\n",
    "    return ''.join(stripped)\n",
    "\n",
    "import time\n",
    "t0 = time.time()\n",
    "# compound_list = []\n",
    "counter = 0\n",
    "for i,df_row in df.iterrows():\n",
    "    compound = metob.Compound()\n",
    "    compound.name = strip_non_ascii(df_row.common_name)#, \"utf-8\",errors='ignore'))\n",
    "    compound.description = unicode(df_row.Definition, \"utf-8\",errors='ignore')\n",
    "    compound.synonyms = strip_non_ascii(df_row.synonyms)#, \"utf-8\",errors='ignore'))\n",
    "    \n",
    "    compound.formula = str(df_row.formula)\n",
    "    compound.mono_isotopic_molecular_weight = df_row.monoisotopic_mw\n",
    "    compound.permanent_charge = int(float(df_row.charge))\n",
    "    try:\n",
    "        compound.num_free_radicals = int(float(df_row.num_radicals))\n",
    "    except:\n",
    "        compound.num_free_radicals = int(float(max(df_row.num_radicals.split('///'))))\n",
    "    compound.number_components = int(1)\n",
    "    \n",
    "    compound.inchi = df_row.metatlas_inchi\n",
    "    compound.inchi_key = df_row.metatlas_inchi_key\n",
    "    compound.neutralized_2d_inchi = df_row.flat_inchi\n",
    "    compound.neutralized_2d_inchi_key = df_row.flat_inchikey\n",
    "    compound.neutralized_inchi = df_row.metatlas_inchi\n",
    "    compound.neutralized_inchi_key = df_row.metatlas_inchi_key\n",
    "    \n",
    "    compound.source = str(df_row.source_database)\n",
    "    for url_index,database in enumerate(database_list):\n",
    "        if getattr(df_row,database):\n",
    "            setattr(compound, database, str(getattr(df_row,database)) )\n",
    "            if url_list[url_index]:\n",
    "                ids = str(getattr(df_row,database)).split('///')\n",
    "                urls = []\n",
    "                for my_id in ids:\n",
    "                    urls.append('%s%s'%(url_list[url_index],my_id))\n",
    "                    if 'pubchem' in database:\n",
    "                        setattr(compound, database.replace('_compound_id','_url'),'///'.join(urls) )\n",
    "                    else:\n",
    "                        setattr(compound, database.replace('_id','_url'),'///'.join(urls) )\n",
    "#     compound_list.append(compound)\n",
    "    metob.store(compound)\n",
    "    counter += 1\n",
    "    if counter == 1000:\n",
    "        print i\n",
    "        counter = 0\n",
    "print time.time() - t0"
   ]
  },
  {
   "cell_type": "code",
   "execution_count": null,
   "metadata": {
    "collapsed": false,
    "scrolled": false
   },
   "outputs": [],
   "source": [
    "t0 = time.time()\n",
    "for c in compound_list:\n",
    "    metob.store(c)\n",
    "print time.time() - t0"
   ]
  },
  {
   "cell_type": "code",
   "execution_count": null,
   "metadata": {
    "collapsed": false
   },
   "outputs": [],
   "source": [
    "14.003074*2+2*e"
   ]
  },
  {
   "cell_type": "code",
   "execution_count": null,
   "metadata": {
    "collapsed": false
   },
   "outputs": [],
   "source": [
    "# C8H8NO3\n",
    "e = 0.000548579909\n",
    "print 12.0*8 + 1.007825*8+14.003074+15.994915*3\n",
    "print 12.0*8 + 1.007825*8+14.003074+15.994915*3 - e\n",
    "print 166.049869536"
   ]
  },
  {
   "cell_type": "code",
   "execution_count": null,
   "metadata": {
    "collapsed": false
   },
   "outputs": [],
   "source": [
    "df[(df.charge==1) & (df.monoisotopoic_mw < 300)].head()"
   ]
  },
  {
   "cell_type": "code",
   "execution_count": null,
   "metadata": {
    "collapsed": false
   },
   "outputs": [],
   "source": [
    "df.tail(100)"
   ]
  },
  {
   "cell_type": "code",
   "execution_count": null,
   "metadata": {
    "collapsed": false
   },
   "outputs": [],
   "source": [
    "compound"
   ]
  },
  {
   "cell_type": "code",
   "execution_count": null,
   "metadata": {
    "collapsed": false
   },
   "outputs": [],
   "source": [
    "compound_list[0].reference_xrefs[0].name"
   ]
  },
  {
   "cell_type": "code",
   "execution_count": null,
   "metadata": {
    "collapsed": true
   },
   "outputs": [],
   "source": [
    "metatlas_compounds = metob.retrieve('Compounds',name = '%',username='*')"
   ]
  },
  {
   "cell_type": "code",
   "execution_count": null,
   "metadata": {
    "collapsed": true
   },
   "outputs": [],
   "source": []
  },
  {
   "cell_type": "code",
   "execution_count": null,
   "metadata": {
    "collapsed": true
   },
   "outputs": [],
   "source": []
  },
  {
   "cell_type": "code",
   "execution_count": null,
   "metadata": {
    "collapsed": false
   },
   "outputs": [],
   "source": [
    "print len(metatlas_compounds)"
   ]
  },
  {
   "cell_type": "code",
   "execution_count": null,
   "metadata": {
    "collapsed": false
   },
   "outputs": [],
   "source": [
    "metatlas_compounds[0]"
   ]
  },
  {
   "cell_type": "code",
   "execution_count": null,
   "metadata": {
    "collapsed": false
   },
   "outputs": [],
   "source": [
    "# metob.FunctionalSet()\n",
    "# metob.to_dataframe(metatlas_compounds[:1])\n",
    "mc1 = metob.Compound()\n",
    "dbr = metob.ReferenceDatabase()\n",
    "# mc1.reference_xrefs = [dbr,dbr]\n",
    "print mc1()"
   ]
  },
  {
   "cell_type": "code",
   "execution_count": null,
   "metadata": {
    "collapsed": false
   },
   "outputs": [],
   "source": [
    "mc1()"
   ]
  },
  {
   "cell_type": "code",
   "execution_count": null,
   "metadata": {
    "collapsed": true
   },
   "outputs": [],
   "source": [
    "counter = 0\n",
    "field_list = ['inchi','name']\n",
    "metatlas_df = pd.DataFrame()\n",
    "for compound in metatlas_compounds:\n",
    "    for field in field_list:\n",
    "        metatlas_df.loc[counter,field] = getattr(compound,field)\n",
    "    counter += 1"
   ]
  },
  {
   "cell_type": "code",
   "execution_count": null,
   "metadata": {
    "collapsed": false
   },
   "outputs": [],
   "source": [
    "metatlas_df.head()"
   ]
  },
  {
   "cell_type": "code",
   "execution_count": null,
   "metadata": {
    "collapsed": false
   },
   "outputs": [],
   "source": [
    "def make_mol_from_smiles_and_inchi(row):\n",
    "    mol= []\n",
    "    if row['inchi']:\n",
    "        mol = Chem.MolFromInchi(row['inchi'].encode('utf-8'))\n",
    "    if mol:\n",
    "        return mol\n",
    "\n",
    "metatlas_df.ROMol = metatlas_df.apply(make_mol_from_smiles_and_inchi, axis=1)"
   ]
  },
  {
   "cell_type": "code",
   "execution_count": null,
   "metadata": {
    "collapsed": false
   },
   "outputs": [],
   "source": [
    "def desalt_compounds_in_dataframe(x):\n",
    "    if x:\n",
    "        if x.GetNumAtoms()>1:\n",
    "            c = import_compounds.desalt(x)\n",
    "            if c[1]:\n",
    "                return c[0]\n",
    "            else:\n",
    "                return x\n",
    "    \n",
    "metatlas_df.ROMol = metatlas_df.ROMol.apply(desalt_compounds_in_dataframe)\n"
   ]
  },
  {
   "cell_type": "code",
   "execution_count": null,
   "metadata": {
    "collapsed": true
   },
   "outputs": [],
   "source": [
    "import_compounds = reload(import_compounds)\n",
    "def neutralize_compounds_in_dataframe(x):\n",
    "    if x:\n",
    "        if x.GetNumAtoms()> 0:\n",
    "            neutral_mol = []\n",
    "            try:\n",
    "                c = import_compounds.NeutraliseCharges(x)\n",
    "                neutral_mol = c[0]\n",
    "            except:\n",
    "                pass\n",
    "            if neutral_mol:\n",
    "                return neutral_mol\n",
    "            \n",
    "metatlas_df.ROMol = metatlas_df.ROMol.apply(neutralize_compounds_in_dataframe)"
   ]
  },
  {
   "cell_type": "code",
   "execution_count": null,
   "metadata": {
    "collapsed": true
   },
   "outputs": [],
   "source": [
    "def calculate_num_radicals_in_dataframe(x):\n",
    "    num_radicals = 0.0\n",
    "    if x:\n",
    "        num_radicals = Descriptors.NumRadicalElectrons(x)        \n",
    "    return num_radicals\n",
    "\n",
    "def calculate_formula_in_dataframe(x):\n",
    "    formula = ''\n",
    "    if x:\n",
    "        formula = rdMolDescriptors.CalcMolFormula(x)\n",
    "    return formula\n",
    "\n",
    "def calculate_monoisotopic_mw_in_dataframe(x):\n",
    "    mw = 0.0\n",
    "    if x:\n",
    "        mw = Descriptors.ExactMolWt(x)\n",
    "    return mw\n",
    "\n",
    "def calculate_inchi_in_dataframe(x):\n",
    "    inchi = ''\n",
    "    if x:\n",
    "        try:\n",
    "            inchi = Chem.MolToInchi(x)\n",
    "        except:\n",
    "            pass#This fails when can't kekulize mol\n",
    "    return inchi\n",
    "\n",
    "def calculate_flattened_inchi_in_dataframe(x):\n",
    "    flattened_inchi = ''\n",
    "    if x:\n",
    "        sm = Chem.MolToSmiles(x).replace('@','')\n",
    "        flattened_rdkit_mol = Chem.MolFromSmiles(sm)\n",
    "        try:\n",
    "            flattened_inchi = Chem.MolToInchi(flattened_rdkit_mol)\n",
    "        except:\n",
    "            pass#This fails when can't kekulize mol\n",
    "    return flattened_inchi\n",
    "\n",
    "def calculate_inchikey_in_dataframe(x):\n",
    "    ik = ''\n",
    "    if x:\n",
    "        try:\n",
    "            ik = Chem.InchiToInchiKey(x)\n",
    "        except:\n",
    "            pass#This fails when can't kekulize mol.  Carbo-cations are the culprit usually. \n",
    "    return ik\n",
    "\n",
    "def calculate_charge_in_dataframe(x):\n",
    "    if x:\n",
    "        my_charge = Chem.GetFormalCharge(x)\n",
    "        return my_charge\n",
    "            \n",
    "metatlas_df['charge'] = metatlas_df.ROMol.apply(calculate_charge_in_dataframe)\n",
    "metatlas_df['formula'] = metatlas_df.ROMol.apply(calculate_formula_in_dataframe)\n",
    "metatlas_df['monoisotopoic_mw'] = metatlas_df.ROMol.apply(calculate_monoisotopic_mw_in_dataframe)\n",
    "metatlas_df['num_radicals'] = metatlas_df.ROMol.apply(calculate_num_radicals_in_dataframe)\n",
    "\n",
    "metatlas_df['metatlas_inchi'] = metatlas_df.ROMol.apply(calculate_inchi_in_dataframe)\n",
    "metatlas_df['metatlas_inchi_key'] = metatlas_df.metatlas_inchi.apply(calculate_inchikey_in_dataframe)\n",
    "\n",
    "metatlas_df['flat_inchi'] = metatlas_df.ROMol.apply(calculate_flattened_inchi_in_dataframe)\n",
    "metatlas_df['flat_inchikey'] = metatlas_df.flat_inchi.apply(calculate_inchikey_in_dataframe)\n"
   ]
  },
  {
   "cell_type": "code",
   "execution_count": null,
   "metadata": {
    "collapsed": true
   },
   "outputs": [],
   "source": [
    "metatlas_df = metatlas_df.where((pd.notnull(metatlas_df)), None)\n"
   ]
  },
  {
   "cell_type": "code",
   "execution_count": null,
   "metadata": {
    "collapsed": false
   },
   "outputs": [],
   "source": [
    "metatlas_df = metatlas_df[metatlas_df.metatlas_inchi_key != '']\n"
   ]
  },
  {
   "cell_type": "code",
   "execution_count": null,
   "metadata": {
    "collapsed": false
   },
   "outputs": [],
   "source": [
    "metatlas_df.to_pickle('backup of all metatlas compounds with flattened inchi and key.pkl')\n",
    "metatlas_df.head()"
   ]
  },
  {
   "cell_type": "code",
   "execution_count": null,
   "metadata": {
    "collapsed": false
   },
   "outputs": [],
   "source": [
    "idx = metatlas_df.metatlas_inchi_key.isin(df.metatlas_inchi_key)"
   ]
  },
  {
   "cell_type": "code",
   "execution_count": null,
   "metadata": {
    "collapsed": false
   },
   "outputs": [],
   "source": [
    "not_found = metatlas_df[~idx]"
   ]
  },
  {
   "cell_type": "code",
   "execution_count": null,
   "metadata": {
    "collapsed": false
   },
   "outputs": [],
   "source": [
    "not_found = not_found.drop_duplicates()"
   ]
  },
  {
   "cell_type": "code",
   "execution_count": null,
   "metadata": {
    "collapsed": false,
    "scrolled": false
   },
   "outputs": [],
   "source": [
    "not_found.head(20)"
   ]
  },
  {
   "cell_type": "code",
   "execution_count": null,
   "metadata": {
    "collapsed": false
   },
   "outputs": [],
   "source": [
    "# not_found.to_csv('metatlas_compounds_not_found.csv')\n",
    "# not_found.to_pickle('metatlas_compounds_not_found.pkl')"
   ]
  },
  {
   "cell_type": "code",
   "execution_count": null,
   "metadata": {
    "collapsed": false
   },
   "outputs": [],
   "source": [
    "not_found.shape"
   ]
  },
  {
   "cell_type": "code",
   "execution_count": null,
   "metadata": {
    "collapsed": true
   },
   "outputs": [],
   "source": []
  }
 ],
 "metadata": {
  "anaconda-cloud": {},
  "kernelspec": {
   "display_name": "MetAtlas 2.7",
   "language": "python",
   "name": "metatlas"
  },
  "language_info": {
   "codemirror_mode": {
    "name": "ipython",
    "version": 2
   },
   "file_extension": ".py",
   "mimetype": "text/x-python",
   "name": "python",
   "nbconvert_exporter": "python",
   "pygments_lexer": "ipython2",
   "version": "2.7.11"
  }
 },
 "nbformat": 4,
 "nbformat_minor": 0
}
